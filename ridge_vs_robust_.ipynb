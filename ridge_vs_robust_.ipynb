{
 "cells": [
  {
   "cell_type": "markdown",
   "metadata": {},
   "source": [
    "## Regression Comparison: Ridge vs. Robust \n",
    "Examine the effect of outliers on OLS ridge and robust huber regression. \n",
    "\n",
    "### Sources\n",
    "1.  code: https://scikit-learn.org/stable/auto_examples/linear_model/plot_huber_vs_ridge.html#sphx-glr-auto-examples-linear-model-plot-huber-vs-ridge-py\n",
    "2.  ridge regesssion: https://youtu.be/Q81RR3yKn30\n",
    "3.  huber regression: https://youtu.be/7a_6roLjwaA"
   ]
  },
  {
   "cell_type": "code",
   "execution_count": 1,
   "metadata": {},
   "outputs": [],
   "source": [
    "# import tools\n",
    "import numpy as np\n",
    "import matplotlib.pyplot as plt\n",
    "\n",
    "from sklearn.datasets import make_regression\n",
    "from sklearn.linear_model import HuberRegressor, Ridge"
   ]
  },
  {
   "cell_type": "code",
   "execution_count": 2,
   "metadata": {},
   "outputs": [],
   "source": [
    "# generate toy data.\n",
    "rng = np.random.RandomState(0)\n",
    "X, y = make_regression(n_samples=20, n_features=1, random_state=1, noise=5.0, bias=100.0)"
   ]
  },
  {
   "cell_type": "code",
   "execution_count": 3,
   "metadata": {},
   "outputs": [],
   "source": [
    "# make 4 random outliers from probability density.\n",
    "# center mean for X and y around 0. as the predicted variable, give y a greater variance.\n",
    "# to satisfy matrix algebra requirement for regression: X is a (4,1) vector and y is a (4,) scalar \n",
    "X_outliers = rng.normal(0, 0.5, size=(4, 1))\n",
    "y_outliers = rng.normal(0, 2.0, size=4)"
   ]
  },
  {
   "cell_type": "code",
   "execution_count": 4,
   "metadata": {},
   "outputs": [],
   "source": [
    "# insert random outliers into extreme corners of toy data.\n",
    "# large X, small y for first two random numbers.\n",
    "X_outliers[:2, :] += X.max() + X.mean() / 4.\n",
    "y_outliers[:2] += y.min() - y.mean() / 4.\n",
    "\n",
    "# small X, large y for last two random numbers.\n",
    "X_outliers[2:, :] += X.min() - X.mean() / 4.\n",
    "y_outliers[2:] += y.max() + y.mean() / 4.\n",
    "\n",
    "# append outliers to X and y\n",
    "X = np.vstack((X, X_outliers))\n",
    "y = np.concatenate((y, y_outliers))"
   ]
  },
  {
   "cell_type": "code",
   "execution_count": 5,
   "metadata": {},
   "outputs": [
    {
     "data": {
      "text/plain": [
       "HuberRegressor(alpha=0.0, epsilon=1.35, fit_intercept=True, max_iter=100,\n",
       "        tol=1e-05, warm_start=False)"
      ]
     },
     "execution_count": 5,
     "metadata": {},
     "output_type": "execute_result"
    }
   ],
   "source": [
    "# fit the huber regressor to toy data with standard epsilon=1.35.\n",
    "huber = HuberRegressor(fit_intercept=True, alpha=0.0, max_iter=100, epsilon=1.35)\n",
    "huber.fit(X, y)"
   ]
  },
  {
   "cell_type": "code",
   "execution_count": 6,
   "metadata": {},
   "outputs": [
    {
     "data": {
      "text/plain": [
       "Ridge(alpha=0.0, copy_X=True, fit_intercept=True, max_iter=None,\n",
       "   normalize=True, random_state=0, solver='auto', tol=0.001)"
      ]
     },
     "execution_count": 6,
     "metadata": {},
     "output_type": "execute_result"
    }
   ],
   "source": [
    "# fit a ridge regressor to toy data with alpha=0.\n",
    "ridge = Ridge(fit_intercept=True, alpha=0.0, random_state=0, normalize=True)\n",
    "ridge.fit(X, y)"
   ]
  },
  {
   "cell_type": "code",
   "execution_count": 7,
   "metadata": {},
   "outputs": [
    {
     "name": "stdout",
     "output_type": "stream",
     "text": [
      "[67.14394107]\n",
      "[11.57712283]\n"
     ]
    }
   ],
   "source": [
    "# make a regression line with huber and ridge coefficients: y = mx+b\n",
    "# With only a single predictor X is 1D and linear. Regression produces a single coefficient. \n",
    "x = np.linspace(X.min(), X.max(), 5)\n",
    "coef_huber = huber.coef_ * x + huber.intercept_\n",
    "print(huber.coef_)\n",
    "\n",
    "coef_ridge = ridge.coef_ * x + ridge.intercept_\n",
    "print(ridge.coef_)"
   ]
  },
  {
   "cell_type": "code",
   "execution_count": 34,
   "metadata": {},
   "outputs": [
    {
     "data": {
      "image/png": "[encoded data removed]",
      "text/plain": [
       "<Figure size 432x288 with 1 Axes>"
      ]
     },
     "metadata": {
      "needs_background": "light"
     },
     "output_type": "display_data"
    }
   ],
   "source": [
    "# construct plot that brings data, random outliers, and regression lines together\n",
    "plt.plot(X, y, 'b.')\n",
    "plt.plot(x, coef_huber, \"r-\", label=\"Huber\")\n",
    "plt.plot(x, coef_ridge, 'g-', label=\"Ridge\")\n",
    "plt.title(\"Regression Comparison: Huber vs Ridge\")\n",
    "plt.xlabel(\"X\")\n",
    "plt.ylabel(\"y\")\n",
    "plt.legend(loc=0)\n",
    "plt.show()"
   ]
  },
  {
   "cell_type": "markdown",
   "metadata": {},
   "source": [
    "### Note:\n",
    "For simplicity alpha and epsilon for the ridge and huber regressors where set at default values. Both parameters attempt to minimize the impact/weight of residuals on the predicted model. Alpha  minimimzes coefficients by multiplying a penalty (alpha>0) to the weighting term in the OLS approach. Epsilon takes the abosulte value, instead of the square, of residuals for extreme cases. How aggressively epsilon classfies outliers is determined by its given value. \n",
    "\n",
    "### Conclusion:\n",
    "While the ridge estimator attempts to minimize the impact of extreme values with alpha, it cannot handle outliers that deviate drastically from the mean of the residual error. This is illustrated by the poorly \"fit\" ridge line in the figure above. However, the huber estimator can counter act the weight of outliers on the regression by taking the absolute value of their residual errors. The minimzed weight of the outliers on the huber estimator is illustrated by the well \"fit\" huber line in the figure above. Due to the huber estimators ability to detect and minimuze radical residual errors it is classified as a robust regressor.  "
   ]
  },
  {
   "cell_type": "code",
   "execution_count": null,
   "metadata": {},
   "outputs": [],
   "source": []
  },
  {
   "cell_type": "code",
   "execution_count": null,
   "metadata": {},
   "outputs": [],
   "source": []
  }
 ],
 "metadata": {
  "kernelspec": {
   "display_name": "Python 3",
   "language": "python",
   "name": "python3"
  },
  "language_info": {
   "codemirror_mode": {
    "name": "ipython",
    "version": 3
   },
   "file_extension": ".py",
   "mimetype": "text/x-python",
   "name": "python",
   "nbconvert_exporter": "python",
   "pygments_lexer": "ipython3",
   "version": "3.7.5"
  }
 },
 "nbformat": 4,
 "nbformat_minor": 4
}
